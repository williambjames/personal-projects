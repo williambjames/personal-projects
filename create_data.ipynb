{
 "cells": [
  {
   "cell_type": "code",
   "execution_count": 237,
   "metadata": {},
   "outputs": [],
   "source": [
    "import numpy as np\n",
    "import matplotlib.pyplot as plt\n",
    "import pandas as pd\n",
    "import nfl_data_py as nfl\n",
    "import pandas as pd\n",
    "import numpy as np\n",
    "import matplotlib.pyplot as plt\n",
    "import seaborn as sns\n",
    "import os\n",
    "pd.options.display.max_columns = 400"
   ]
  },
  {
   "cell_type": "markdown",
   "metadata": {},
   "source": [
    "### Preset Lists (and Game Data)"
   ]
  },
  {
   "cell_type": "code",
   "execution_count": 238,
   "metadata": {},
   "outputs": [],
   "source": [
    "game_data = nfl.import_schedules(years=range(2012,2023))\n",
    "\n",
    "basic_cols = ['off_pass_epa',\n",
    " 'off_pass_cpoe',\n",
    " 'off_pass_success',\n",
    " 'def_pass_epa',\n",
    " 'def_pass_cpoe',\n",
    " 'def_pass_success',\n",
    " 'off_rush_epa',\n",
    " 'off_rush_success',\n",
    " 'def_rush_epa',\n",
    " 'def_rush_success',\n",
    " 'off_pepaw',\n",
    " 'def_pepaw',\n",
    " 'off_pass_rate',\n",
    " 'def_pass_rate',\n",
    " 'off_boom',\n",
    " 'off_bust',\n",
    " 'off_bob',\n",
    " 'def_boom',\n",
    " 'def_bust',\n",
    " 'def_bob']\n",
    "\n",
    "cols_to_drop = ['off_pass_epa',\n",
    "       'off_pass_cpoe', 'off_pass_success', 'def_pass_epa',\n",
    "       'def_pass_cpoe', 'def_pass_success', 'off_rush_epa',\n",
    "       'off_rush_success', 'def_rush_epa', 'def_rush_success',\n",
    "       'off_pepaw', 'def_pepaw', 'off_boom', 'def_boom', 'off_bust',\n",
    "       'def_bust', 'off_bob', 'def_bob', 'off_pass_rate', 'def_pass_rate',\n",
    "       'off_pass_epa_over_opp_trend', 'off_rush_epa_over_opp_trend',\n",
    "       'def_pass_epa_over_opp_trend', 'def_rush_epa_over_opp_trend',\n",
    "       'off_pass_success_over_opp_trend',\n",
    "       'off_rush_success_over_opp_trend',\n",
    "       'def_pass_success_over_opp_trend',\n",
    "       'def_rush_success_over_opp_trend', 'off_pass_cpoe_over_opp_trend',\n",
    "       'def_pass_cpoe_over_opp_trend', 'off_pepaw_over_opp_trend',\n",
    "       'def_pepaw_over_opp_trend','mov']\n",
    "\n",
    "trends = []"
   ]
  },
  {
   "cell_type": "markdown",
   "metadata": {},
   "source": [
    "### Functions"
   ]
  },
  {
   "cell_type": "code",
   "execution_count": 239,
   "metadata": {},
   "outputs": [],
   "source": [
    "def build_basic(first_season,last_season):\n",
    "    years = range(first_season,last_season+1)\n",
    "    game_data = nfl.import_schedules(years=years)\n",
    "    game_data.loc[(game_data['home_team']=='OAK'),'home_team'] = 'LV'\n",
    "    game_data.loc[(game_data['home_team']=='STL'),'home_team'] = 'LA'\n",
    "    game_data.loc[(game_data['home_team']=='SD'),'home_team'] = 'LAC'\n",
    "    \n",
    "    df = nfl.import_pbp_data(years, downcast=True, cache=False, alt_path=None)\n",
    "\n",
    "    df['gt'] = False #Create GT column\n",
    "    df.loc[(df['home_wp'] >= .87) | (df['home_wp'] <= .13),'gt'] = True #Set GT scenarios to true\n",
    "    df.loc[(df['gt']==True),'epa'] *= .5 #Downweight EPA in near-GT (when one team has between 6%-13% WP)\n",
    "\n",
    "    df = df.loc[(df['home_wp'].between(.05,.95,inclusive='both'))] #Remove all plays where a team has a 5% or less WP\n",
    "\n",
    "    df['pepaw'] = df['epa']\n",
    "    df.loc[(df['rush'] == 1),'pepaw'] = df['epa'] * (1-df['xpass']) #PEPAW, downweight based on play expectation\n",
    "    df.loc[(df['pass'] == 1),'pepaw'] = df['epa'] * df['xpass']\n",
    "\n",
    "    df['pass_boom'] = 0 #At or above 90th percentile of passing EPA (1.94)\n",
    "    df['pass_bust'] = 0 #At or below 10th percentile of passing EPA (-1.45)\n",
    "    df.loc[(df['pass']==1) & (df['epa']>= 1.94),'pass_boom'] = 1\n",
    "    df.loc[(df['pass']==1) & (df['epa']<= -1.45),'pass_bust'] = 1\n",
    "\n",
    "\n",
    "    df['rush_boom'] = 0 #At or above 90th percentile of rushing EPA (.94)\n",
    "    df['rush_bust'] = 0 #At or below 10th percentile of rushing EPA (-.95)\n",
    "    df.loc[(df['rush']==1) & (df['epa']>= .94),'rush_boom'] = 1\n",
    "    df.loc[(df['rush']==1) & (df['epa']<= -.95),'rush_bust'] = 1\n",
    "\n",
    "\n",
    "    df['pepaw_boom'] = 0 #At or above 90th percentile of PEPAW (.94)\n",
    "    df['pepaw_bust'] = 0 #At or below 10th percentile of PEPAW (-.84)\n",
    "    df.loc[(df['pepaw']>=.94),'pepaw_boom'] = 1\n",
    "    df.loc[(df['pepaw']<=-.84),'pepaw_bust'] = 1\n",
    "\n",
    "\n",
    "    df_rush_off = df.loc[df['rush']==1].groupby(['game_id','posteam','season','week'],as_index = False).agg(off_rush_epa=('epa',np.mean), #Group plays by game to find average/total rush stats\n",
    "                                                                                                    off_rush_success=('success',np.mean),\n",
    "                                                                                                    off_rush_boom=('rush_boom',np.sum),\n",
    "                                                                                                    off_rush_bust=('rush_bust',np.sum),\n",
    "                                                                                                    off_rush_plays=('play_id',np.count_nonzero))\n",
    "\n",
    "    df_rush_def = df.loc[df['rush']==1].groupby(['game_id','defteam','season','week'],as_index = False).agg(def_rush_epa=('epa',np.mean),\n",
    "                                                                                                    def_rush_success=('success',np.mean),\n",
    "                                                                                                    def_rush_boom=('rush_boom',np.sum),\n",
    "                                                                                                    def_rush_bust=('rush_bust',np.sum),\n",
    "                                                                                                    def_rush_plays=('play_id',np.count_nonzero))\n",
    "\n",
    "    df_rush_def['def_rush_boom_temp'] = df_rush_def['def_rush_boom'] #Fancy-pants value swapping to set the offensive boom = defensive bust, etc.\n",
    "    df_rush_def['def_rush_boom'] = df_rush_def['def_rush_bust']\n",
    "    df_rush_def['def_rush_bust'] = df_rush_def['def_rush_boom_temp']\n",
    "    df_rush_def = df_rush_def.drop(columns=['def_rush_boom_temp'])\n",
    "\n",
    "    df_rush_off = df_rush_off.rename(columns={'posteam':'team'})                                                                                                \n",
    "    df_rush_def = df_rush_def.rename(columns={'defteam':'team'})\n",
    "\n",
    "    df_rush = pd.merge(df_rush_off,df_rush_def,on=['game_id','team','season','week']) #Combine off/def\n",
    "\n",
    "    df_pass_off = df.loc[df['pass']==1].groupby(['game_id','posteam','season','week'],as_index = False).agg(off_pass_epa=('epa',np.mean), #Group plays by game to find average/total pass stats\n",
    "                                                                                                    off_pass_cpoe=('cpoe',np.mean),\n",
    "                                                                                                    off_pass_success=('success',np.mean),\n",
    "                                                                                                    off_pass_boom=('pass_boom',np.sum),\n",
    "                                                                                                    off_pass_bust=('pass_bust',np.sum),\n",
    "                                                                                                    off_pass_plays=('play_id',np.count_nonzero))\n",
    "\n",
    "    df_pass_def = df.loc[df['pass']==1].groupby(['game_id','defteam','season','week'],as_index = False).agg(def_pass_epa=('epa',np.mean),\n",
    "                                                                                                    def_pass_cpoe=('cpoe',np.mean),\n",
    "                                                                                                    def_pass_success=('success',np.mean),\n",
    "                                                                                                    def_pass_boom=('pass_boom',np.sum),\n",
    "                                                                                                    def_pass_bust=('pass_bust',np.sum),\n",
    "                                                                                                    def_pass_plays=('play_id',np.count_nonzero))\n",
    "\n",
    "    df_pass_def['def_pass_boom_temp'] = df_pass_def['def_pass_boom'] #Value swapping\n",
    "    df_pass_def['def_pass_boom'] = df_pass_def['def_pass_bust']\n",
    "    df_pass_def['def_pass_bust'] = df_pass_def['def_pass_boom_temp']\n",
    "    df_pass_def = df_pass_def.drop(columns=['def_pass_boom_temp'])\n",
    "\n",
    "\n",
    "    df_pass_off = df_pass_off.rename(columns={'posteam':'team'})                                                                             \n",
    "    df_pass_def = df_pass_def.rename(columns={'defteam':'team'})\n",
    "\n",
    "    df_pass = pd.merge(df_pass_off,df_pass_def,on=['game_id','team','season','week']) #Combine\n",
    "\n",
    "    df_basic = pd.merge(df_pass,df_rush,on=['game_id','team','season','week']) #Combine\n",
    "    df_pepaw_off = df.groupby(['game_id','posteam','season','week'],as_index=False).agg(off_pepaw=('pepaw',np.mean)) #Pepaw averages\n",
    "    df_pepaw_def = df.groupby(['game_id','defteam','season','week'],as_index=False).agg(def_pepaw=('pepaw',np.mean))\n",
    "    df_pepaw_off = df_pepaw_off.rename(columns={'posteam':'team'})\n",
    "    df_pepaw_def = df_pepaw_def.rename(columns={'defteam':'team'})\n",
    "    df_basic = pd.merge(df_basic,df_pepaw_off[['game_id','team','season','week','off_pepaw']],on=['game_id','team','season','week'])\n",
    "    df_basic = pd.merge(df_basic,df_pepaw_def[['game_id','team','season','week','def_pepaw']],on=['game_id','team','season','week'])\n",
    "\n",
    "    df_basic['off_boom'] = (df_basic['off_pass_boom'] + df_basic['off_rush_boom'])/(df_basic['off_pass_plays'] + df_basic['off_rush_plays']) #BOBs\n",
    "    df_basic['def_boom'] = (df_basic['def_pass_boom'] + df_basic['def_rush_boom'])/(df_basic['def_pass_plays'] + df_basic['def_rush_plays'])\n",
    "    df_basic['off_bust'] = (df_basic['off_pass_bust'] + df_basic['off_rush_bust'])/(df_basic['off_pass_plays'] + df_basic['off_rush_plays'])\n",
    "    df_basic['def_bust'] = (df_basic['def_pass_bust'] + df_basic['def_rush_bust'])/(df_basic['def_pass_plays'] + df_basic['def_rush_plays'])\n",
    "\n",
    "    df_basic['off_bob'] = (df_basic['off_pass_boom'] + df_basic['off_pass_bust'] + df_basic['off_rush_boom'] + df_basic['off_rush_bust'])/(df_basic['off_pass_plays'] + df_basic['off_rush_plays'])\n",
    "    df_basic['def_bob'] = (df_basic['def_pass_boom'] + df_basic['def_pass_bust'] + df_basic['def_rush_boom'] + df_basic['def_rush_bust'])/(df_basic['def_pass_plays'] + df_basic['def_rush_plays'])\n",
    "\n",
    "    df_basic['off_pass_rate'] = df_basic['off_pass_plays'] / (df_basic['off_pass_plays'] + df_basic['off_rush_plays']) #Pass rate\n",
    "    df_basic['def_pass_rate'] = df_basic['def_pass_plays'] / (df_basic['def_pass_plays'] + df_basic['def_rush_plays'])\n",
    "\n",
    "    return(game_data,df_basic)\n",
    "\n",
    "def dynamic_window_ewma(df, cols):\n",
    "    \"\"\"\n",
    "    Calculate rolling exponentially weighted EPA with a dynamic window size\n",
    "    \"\"\"\n",
    "    df_to_return = df.sort_values(['team','season','week']).copy()\n",
    "    df_to_return =df_to_return.reset_index(drop=True)\n",
    "    for t in df_to_return.team.unique():\n",
    "        for x in df_to_return[df_to_return['team']==t].index:\n",
    "            for i in cols:\n",
    "                if df_to_return.at[x,'week'].item() > 10:\n",
    "                    df_to_return[i + '_ewma'] = df_to_return[i].ewm(min_periods=1,span=df.at[x,'week'].item()).mean().shift(1)\n",
    "                else:\n",
    "                    df_to_return[i + '_ewma'] = df_to_return[i].ewm(min_periods=1,span=10).mean().shift(1)\n",
    "\n",
    "    return df_to_return\n",
    "\n",
    "\n",
    "def build_ewma_opponents_trends(df,game_data):\n",
    "    df_ewma = df.copy().drop(columns=['off_rush_plays','def_rush_plays','off_pass_plays','def_pass_plays','off_pass_boom','off_pass_bust','def_pass_boom','def_pass_bust','off_rush_boom','off_rush_bust','def_rush_boom','def_rush_bust']) #Get rid of single game totals\n",
    "    df_ewma = dynamic_window_ewma(df_ewma,basic_cols) #Apply ewma function\n",
    "    \n",
    "    df_opps = df_ewma.copy().merge(game_data[['game_id','home_team','away_team']],on=['game_id']) #Create opponent info (not stats)\n",
    "    df_opps['opp'] = df_opps['away_team']\n",
    "    df_opps.loc[(df_opps['team']==df_opps['away_team']),'opp'] = df_opps['home_team'] #Conditionally set opponent\n",
    "\n",
    "    df_ewma = df_ewma.merge(df_opps[['game_id','team','opp']],on=['game_id','team']) #Add opponent column to ewma df so we can merge opponents data in\n",
    "    ewma_cols = [col for col in df_ewma if 'ewma' in col or 'game_id' in col or 'team' in col]\n",
    "    df_dummy_flipped = df_ewma.copy() #Just placeholder df\n",
    "    df_with_opp_data = pd.merge(df_ewma,df_dummy_flipped[ewma_cols],left_on=['game_id','opp'],right_on=['game_id','team'],suffixes=('','_opp')) #Merge opponents pbp data onto teams own data\n",
    "    df_with_opp_data = df_with_opp_data.drop(columns=['opp','team_opp'])\n",
    "    df_with_opp_data\n",
    "\n",
    "    clean_df = df_with_opp_data.dropna(subset=['off_pass_epa_ewma']) #Get rid of first rows (NA because of the shift)\n",
    "    clean_df['off_pass_epa_over_opp_trend'] = clean_df['off_pass_epa'] - clean_df['def_pass_epa_ewma_opp'] #Compare how team A performed in a specific game relative to the trend value (EWMA) of Team B's opposite group (off pass v def pass, off rush v def rush)\n",
    "    clean_df['off_rush_epa_over_opp_trend'] = clean_df['off_rush_epa'] - clean_df['def_rush_epa_ewma_opp']\n",
    "    clean_df['def_pass_epa_over_opp_trend'] = clean_df['def_pass_epa'] - clean_df['off_pass_epa_ewma_opp']\n",
    "    clean_df['def_rush_epa_over_opp_trend'] = clean_df['def_rush_epa'] - clean_df['off_rush_epa_ewma_opp']\n",
    "\n",
    "    clean_df['off_pass_success_over_opp_trend'] = clean_df['off_pass_success'] - clean_df['def_pass_success_ewma_opp'] #More\n",
    "    clean_df['off_rush_success_over_opp_trend'] = clean_df['off_rush_success'] - clean_df['def_rush_success_ewma_opp']\n",
    "    clean_df['def_pass_success_over_opp_trend'] = clean_df['def_pass_success'] - clean_df['off_pass_success_ewma_opp']\n",
    "    clean_df['def_rush_success_over_opp_trend'] = clean_df['def_rush_success'] - clean_df['off_rush_success_ewma_opp']\n",
    "\n",
    "    clean_df['off_pass_cpoe_over_opp_trend'] = clean_df['off_pass_cpoe'] - clean_df['def_pass_cpoe_ewma_opp'] #More\n",
    "    clean_df['def_pass_cpoe_over_opp_trend'] = clean_df['def_pass_cpoe'] - clean_df['off_pass_cpoe_ewma_opp']\n",
    "\n",
    "    clean_df['off_pepaw_over_opp_trend'] = clean_df['off_pepaw'] - clean_df['def_pepaw_ewma_opp'] #More\n",
    "    clean_df['def_pepaw_over_opp_trend'] = clean_df['def_pepaw'] - clean_df['off_pepaw_ewma_opp']\n",
    "\n",
    "    trends = [col for col in clean_df.columns if 'trend' in col]\n",
    "\n",
    "    df_return = dynamic_window_ewma(clean_df,trends) #Now find Trend (EWMA) of Team A's performance relative to Team B's trends\n",
    "\n",
    "    return(df_return)\n",
    "    \n",
    "def add_game_info(df,game_data):\n",
    "    stats = df.copy()\n",
    "    stats = pd.merge(stats,game_data[['game_id','home_team','location','home_score','away_score','result','total','home_rest','away_rest','div_game','roof','spread_line','total_line','game_type']],on='game_id') #Add game data\n",
    "\n",
    "    stats['is_home'] = 0 #Set home flags\n",
    "    stats.loc[(stats['home_team'] == stats['team']) & (stats['location']=='Home'),'is_home'] = 1\n",
    "    #drop\n",
    "    # stats = stats.drop(columns=['location'])\n",
    "\n",
    "    stats['is_playoff'] = 1 #Playoff flag\n",
    "    stats.loc[stats['game_type']== 'REG','is_playoff'] = 0\n",
    "    #drop\n",
    "    stats['is_neutral'] = 0 #Neutral flag\n",
    "    stats.loc[stats['location']== 'Neutral','is_neutral'] = 1\n",
    "\n",
    "    stats['mov'] = stats['result'] #not only one fixed value now. Reflects the specified teams margin\n",
    "    stats.loc[stats['is_home']==0,'mov'] = stats['result'] * -1\n",
    "\n",
    "    stats['win'] = 0 #Win flag\n",
    "    stats.loc[stats['mov'] > 0,'win'] = 1\n",
    "\n",
    "    stats['exp_mov'] = stats['spread_line'] #Same concept as mov but vegas line now\n",
    "    stats.loc[stats['is_home'] == 0,'exp_mov'] = stats['spread_line'] * -1\n",
    "    stats['rest_diff'] = stats['home_rest'] - stats['away_rest'] #Home team has X many more days of rest than away team\n",
    "    stats.loc[stats['is_home']==0,'rest_diff'] = stats['away_rest'] - stats['home_rest']\n",
    "\n",
    "    stats['vmov'] = stats['mov'] - stats['exp_mov'] #Margin against the spread. i.e. how much did you cover/fail to cover by\n",
    "\n",
    "    stats = stats.drop(columns=['home_team','location','home_rest','game_type','away_rest','roof']) #Get dis junk outta here!\n",
    "\n",
    "    stats = dynamic_window_ewma(stats,['exp_mov','vmov']) #Trend of team's performance relative to vegas expectations\n",
    "    df_to_split = stats.drop(columns=cols_to_drop) #Drop bad columns that would give it away\n",
    "    home_data = df_to_split.loc[(df_to_split['is_home']==True)] #Make home and away sets\n",
    "    away_data = df_to_split.loc[(df_to_split['is_home']==False)]\n",
    "\n",
    "    trends = [col for col in df_to_split.columns if 'trend' in col]\n",
    "    trends.append('game_id')\n",
    "\n",
    "    # home_data = home_data.merge(away_data[trends],on='game_id',suffixes=('','_opp'))\n",
    "    # away_data = away_data.merge(home_data[trends],on='game_id',suffixes=('','_opp'))\n",
    "\n",
    "    away_data = away_data[['game_id', 'team','off_pass_epa_ewma', #Get rid of redundencies (like game data ((week, season, etc)) we already have in home)\n",
    "        'off_pass_cpoe_ewma', 'off_pass_success_ewma', 'def_pass_epa_ewma',\n",
    "        'def_pass_cpoe_ewma', 'def_pass_success_ewma', 'off_rush_epa_ewma',\n",
    "        'off_rush_success_ewma', 'def_rush_epa_ewma',\n",
    "        'def_rush_success_ewma', 'off_pepaw_ewma', 'def_pepaw_ewma',\n",
    "        'off_pass_rate_ewma', 'def_pass_rate_ewma', 'off_boom_ewma',\n",
    "        'off_bust_ewma', 'off_bob_ewma', 'def_boom_ewma', 'def_bust_ewma',\n",
    "        'def_bob_ewma', 'off_pass_epa_ewma_opp', 'off_pass_cpoe_ewma_opp',\n",
    "        'off_pass_success_ewma_opp', 'def_pass_epa_ewma_opp',\n",
    "        'def_pass_cpoe_ewma_opp', 'def_pass_success_ewma_opp',\n",
    "        'off_rush_epa_ewma_opp', 'off_rush_success_ewma_opp',\n",
    "        'def_rush_epa_ewma_opp', 'def_rush_success_ewma_opp',\n",
    "        'off_pepaw_ewma_opp', 'def_pepaw_ewma_opp',\n",
    "        'off_pass_rate_ewma_opp', 'def_pass_rate_ewma_opp',\n",
    "        'off_boom_ewma_opp', 'off_bust_ewma_opp', 'off_bob_ewma_opp',\n",
    "        'def_boom_ewma_opp', 'def_bust_ewma_opp', 'def_bob_ewma_opp',\n",
    "        'off_pass_epa_over_opp_trend_ewma',\n",
    "        'off_rush_epa_over_opp_trend_ewma',\n",
    "        'def_pass_epa_over_opp_trend_ewma',\n",
    "        'def_rush_epa_over_opp_trend_ewma',\n",
    "        'off_pass_success_over_opp_trend_ewma',\n",
    "        'off_rush_success_over_opp_trend_ewma',\n",
    "        'def_pass_success_over_opp_trend_ewma',\n",
    "        'def_rush_success_over_opp_trend_ewma',\n",
    "        'off_pass_cpoe_over_opp_trend_ewma',\n",
    "        'def_pass_cpoe_over_opp_trend_ewma',\n",
    "        'off_pepaw_over_opp_trend_ewma', 'def_pepaw_over_opp_trend_ewma']]\n",
    "\n",
    "    df_return = pd.merge(home_data,away_data,on=['game_id'],suffixes=('_home','_away')) #Merge and add suffixes\n",
    "    df_return = df_return.drop(index = [df_return[df_return.isna().any(axis=1)].index.item()]) #Get rid of NANs\n",
    "    df_return['cover'] = 0 \n",
    "    df_return.loc[df_return['vmov']> 0, 'cover'] = 1\n",
    "    \n",
    "    return(df_return)\n"
   ]
  },
  {
   "cell_type": "code",
   "execution_count": 240,
   "metadata": {},
   "outputs": [],
   "source": [
    "# game_data, df = build_basic(2012,2023)\n",
    "# ewma_df = build_ewma_opponents_trends(df, game_data)\n",
    "final_df = add_game_info(ewma_df,game_data)"
   ]
  },
  {
   "cell_type": "code",
   "execution_count": 211,
   "metadata": {},
   "outputs": [],
   "source": [
    "from sklearn.model_selection import train_test_split\n",
    "from sklearn.multioutput import MultiOutputRegressor\n",
    "from sklearn.ensemble import RandomForestRegressor\n",
    "import xgboost as xgb"
   ]
  },
  {
   "cell_type": "code",
   "execution_count": 241,
   "metadata": {},
   "outputs": [],
   "source": [
    "training = final_df.loc[final_df['season'] < 2021]\n",
    "# training.to_csv('train.csv')\n",
    "testing = final_df.loc[final_df['season'] >= 2021]\n",
    "# testing.to_csv('test.csv')"
   ]
  },
  {
   "cell_type": "code",
   "execution_count": 242,
   "metadata": {},
   "outputs": [],
   "source": [
    "X_train = training.drop(columns=['team_home','team_away','win','total','game_id','season','vmov','week','home_score','away_score','total_line','spread_line','result','cover'])\n",
    "X_test = testing.drop(columns=['team_home','team_away','win','total','game_id','season','vmov','week','home_score','away_score','total_line','spread_line','result','cover'])\n",
    "y_train_reg = training['result']\n",
    "y_test_reg = testing['result']\n",
    "y_train_clf = training['cover']\n",
    "y_test_clf = testing['cover']\n"
   ]
  },
  {
   "cell_type": "markdown",
   "metadata": {},
   "source": [
    "### XGBoost Regressor"
   ]
  },
  {
   "cell_type": "code",
   "execution_count": 243,
   "metadata": {},
   "outputs": [
    {
     "name": "stderr",
     "output_type": "stream",
     "text": [
      "C:\\Users\\willi\\AppData\\Local\\Temp\\ipykernel_6548\\1664154410.py:15: SettingWithCopyWarning: \n",
      "A value is trying to be set on a copy of a slice from a DataFrame.\n",
      "Try using .loc[row_indexer,col_indexer] = value instead\n",
      "\n",
      "See the caveats in the documentation: https://pandas.pydata.org/pandas-docs/stable/user_guide/indexing.html#returning-a-view-versus-a-copy\n",
      "  testing['pred_reg'] = xgb_reg_gs.predict(X_test)\n"
     ]
    }
   ],
   "source": [
    "from sklearn.model_selection import GridSearchCV\n",
    "import xgboost as xgb\n",
    "\n",
    "xgb_reg = xgb.XGBRegressor(eval_metric='rmse')\n",
    "param_grid = {\"max_depth\":    [4, 5],\n",
    "              \"n_estimators\": [500, 600, 700],\n",
    "              \"learning_rate\": [0.01, 0.015]}\n",
    "search = GridSearchCV(xgb_reg, param_grid,cv=5).fit(X_train,y_train_reg)\n",
    "\n",
    "xgb_reg_gs = xgb.XGBRegressor(learning_rate = search.best_params_[\"learning_rate\"],\n",
    "                           n_estimators  = search.best_params_[\"n_estimators\"],\n",
    "                           max_depth     = search.best_params_[\"max_depth\"])\n",
    "xgb_reg_gs.fit(X_train,y_train_reg)      \n",
    "\n",
    "testing['pred_reg'] = xgb_reg_gs.predict(X_test)"
   ]
  },
  {
   "cell_type": "code",
   "execution_count": 244,
   "metadata": {},
   "outputs": [
    {
     "name": "stdout",
     "output_type": "stream",
     "text": [
      "MSE: 180.04850539023633\n"
     ]
    }
   ],
   "source": [
    "from sklearn.metrics import mean_squared_error\n",
    "\n",
    "\n",
    "mse = mean_squared_error(y_test_reg,testing['pred_reg'])\n",
    "\n",
    "print(f'MSE: {mse}')"
   ]
  },
  {
   "cell_type": "markdown",
   "metadata": {},
   "source": [
    "### XGBoost Regressor"
   ]
  },
  {
   "cell_type": "code",
   "execution_count": 245,
   "metadata": {},
   "outputs": [
    {
     "name": "stderr",
     "output_type": "stream",
     "text": [
      "C:\\Users\\willi\\AppData\\Local\\Temp\\ipykernel_6548\\1694619159.py:13: SettingWithCopyWarning: \n",
      "A value is trying to be set on a copy of a slice from a DataFrame.\n",
      "Try using .loc[row_indexer,col_indexer] = value instead\n",
      "\n",
      "See the caveats in the documentation: https://pandas.pydata.org/pandas-docs/stable/user_guide/indexing.html#returning-a-view-versus-a-copy\n",
      "  testing['pred_clf'] = xgb_clf_gs.predict(X_test)\n"
     ]
    }
   ],
   "source": [
    "xgb_clf = xgb.XGBClassifier()\n",
    "param_grid = {\"max_depth\":    [4, 5],\n",
    "              \"n_estimators\": [500, 600, 700],\n",
    "              \"learning_rate\": [0.01, 0.015]}\n",
    "\n",
    "search_clf = GridSearchCV(xgb_clf, param_grid,cv=5).fit(X_train,y_train_clf)\n",
    "\n",
    "xgb_clf_gs = xgb.XGBRegressor(learning_rate = search_clf.best_params_[\"learning_rate\"],\n",
    "                           n_estimators  = search_clf.best_params_[\"n_estimators\"],\n",
    "                           max_depth     = search_clf.best_params_[\"max_depth\"])\n",
    "xgb_clf_gs.fit(X_train,y_train_clf)     \n",
    "\n",
    "testing['pred_clf'] = xgb_clf_gs.predict(X_test)"
   ]
  },
  {
   "cell_type": "code",
   "execution_count": 250,
   "metadata": {},
   "outputs": [
    {
     "name": "stdout",
     "output_type": "stream",
     "text": [
      "2021 Accuracy: 0.5444839857651246\n",
      "2022 Accuracy: 0.5416666666666666\n"
     ]
    }
   ],
   "source": [
    "from sklearn.metrics import accuracy_score, mean_absolute_error\n",
    "\n",
    "\n",
    "results = testing.copy()\n",
    "results['true_mov'] = y_test_reg\n",
    "results['pred_cover'] = 0\n",
    "results.loc[(results['pred_clf']>=.5),'pred_cover'] = 1\n",
    "\n",
    "acc21 = accuracy_score(results.loc[(results['season']==2021),'cover'],results.loc[(results['season']==2021),'pred_cover'])\n",
    "acc22 = accuracy_score(results.loc[(results['season']==2022),'cover'],results.loc[(results['season']==2022),'pred_cover'])\n",
    "print(f\"2021 Accuracy: {acc21}\")\n",
    "print(f\"2022 Accuracy: {acc22}\")\n"
   ]
  },
  {
   "cell_type": "code",
   "execution_count": 251,
   "metadata": {},
   "outputs": [
    {
     "data": {
      "text/plain": [
       "<AxesSubplot:title={'center':'Feature importance'}, xlabel='F score', ylabel='Features'>"
      ]
     },
     "execution_count": 251,
     "metadata": {},
     "output_type": "execute_result"
    },
    {
     "data": {
      "image/png": "[encoded data removed]",
      "text/plain": [
       "<Figure size 432x288 with 1 Axes>"
      ]
     },
     "metadata": {
      "needs_background": "light"
     },
     "output_type": "display_data"
    }
   ],
   "source": [
    "from xgboost import plot_importance\n",
    "\n",
    "plot_importance(xgb_reg_gs,max_num_features=15)"
   ]
  },
  {
   "cell_type": "code",
   "execution_count": 247,
   "metadata": {},
   "outputs": [
    {
     "data": {
      "text/plain": [
       "<AxesSubplot:title={'center':'Feature importance'}, xlabel='F score', ylabel='Features'>"
      ]
     },
     "execution_count": 247,
     "metadata": {},
     "output_type": "execute_result"
    },
    {
     "data": {
      "image/png": "[encoded data removed]",
      "text/plain": [
       "<Figure size 432x288 with 1 Axes>"
      ]
     },
     "metadata": {
      "needs_background": "light"
     },
     "output_type": "display_data"
    }
   ],
   "source": [
    "\n",
    "\n",
    "plot_importance(xgb_clf_gs,max_num_features=15)"
   ]
  },
  {
   "cell_type": "code",
   "execution_count": 248,
   "metadata": {},
   "outputs": [],
   "source": [
    "results['push'] = 0\n",
    "results.loc[(results['true_mov']==results['exp_mov']),'push'] = 1\n",
    "results['home_cover_pred'] = False\n",
    "results.loc[(results['home_cover_pred']>results['exp_mov']),'home_cover_pred'] = True\n",
    "results['home_cover_true'] = False\n",
    "results.loc[(results['true_mov']>results['exp_mov']),'home_cover_true'] = True\n",
    "results['reg_win'] = 0\n",
    "results.loc[(results['home_cover_pred'] == results['home_cover_true']),'reg_win'] = 1\n",
    "results['reg_loss'] = 1 - results['reg_win']\n",
    "\n",
    "results['clf_win'] = 0\n",
    "results.loc[(results['pred_cover'] == results['home_cover_true']),'clf_win'] = 1\n",
    "results['clf_loss'] = 1 - results['clf_win']"
   ]
  },
  {
   "cell_type": "code",
   "execution_count": 249,
   "metadata": {},
   "outputs": [
    {
     "data": {
      "text/html": [
       "<div>\n",
       "<style scoped>\n",
       "    .dataframe tbody tr th:only-of-type {\n",
       "        vertical-align: middle;\n",
       "    }\n",
       "\n",
       "    .dataframe tbody tr th {\n",
       "        vertical-align: top;\n",
       "    }\n",
       "\n",
       "    .dataframe thead th {\n",
       "        text-align: right;\n",
       "    }\n",
       "</style>\n",
       "<table border=\"1\" class=\"dataframe\">\n",
       "  <thead>\n",
       "    <tr style=\"text-align: right;\">\n",
       "      <th></th>\n",
       "      <th>season</th>\n",
       "      <th>reg_win</th>\n",
       "      <th>reg_loss</th>\n",
       "      <th>push</th>\n",
       "      <th>clf_win</th>\n",
       "      <th>clf_loss</th>\n",
       "    </tr>\n",
       "  </thead>\n",
       "  <tbody>\n",
       "    <tr>\n",
       "      <th>0</th>\n",
       "      <td>2021</td>\n",
       "      <td>150</td>\n",
       "      <td>131</td>\n",
       "      <td>4</td>\n",
       "      <td>153</td>\n",
       "      <td>128</td>\n",
       "    </tr>\n",
       "    <tr>\n",
       "      <th>1</th>\n",
       "      <td>2022</td>\n",
       "      <td>65</td>\n",
       "      <td>55</td>\n",
       "      <td>3</td>\n",
       "      <td>65</td>\n",
       "      <td>55</td>\n",
       "    </tr>\n",
       "  </tbody>\n",
       "</table>\n",
       "</div>"
      ],
      "text/plain": [
       "   season  reg_win  reg_loss  push  clf_win  clf_loss\n",
       "0    2021      150       131     4      153       128\n",
       "1    2022       65        55     3       65        55"
      ]
     },
     "execution_count": 249,
     "metadata": {},
     "output_type": "execute_result"
    }
   ],
   "source": [
    "results.groupby(['season'],as_index=False).agg(reg_win=('reg_win',np.sum),\n",
    "                                               reg_loss=('reg_loss',np.sum),\n",
    "                                               push=('push',np.sum),\n",
    "                                               clf_win=('clf_win',np.sum),\n",
    "                                               clf_loss=('clf_loss',np.sum))"
   ]
  },
  {
   "cell_type": "code",
   "execution_count": null,
   "metadata": {},
   "outputs": [],
   "source": []
  }
 ],
 "metadata": {
  "kernelspec": {
   "display_name": "Python 3.10.5 64-bit",
   "language": "python",
   "name": "python3"
  },
  "language_info": {
   "codemirror_mode": {
    "name": "ipython",
    "version": 3
   },
   "file_extension": ".py",
   "mimetype": "text/x-python",
   "name": "python",
   "nbconvert_exporter": "python",
   "pygments_lexer": "ipython3",
   "version": "3.10.5"
  },
  "orig_nbformat": 4,
  "vscode": {
   "interpreter": {
    "hash": "9a5507c129a05bfdc77ef541b8cef54ca34be21723ca2ada5f657bc6ecbd397c"
   }
  }
 },
 "nbformat": 4,
 "nbformat_minor": 2
}
